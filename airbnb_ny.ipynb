{
 "cells": [
  {
   "cell_type": "code",
   "execution_count": 2,
   "id": "7cc5b0fc",
   "metadata": {},
   "outputs": [],
   "source": [
    "from sklearn.tree import DecisionTreeClassifier\n",
    "from sklearn.datasets import load_iris\n",
    "from sklearn.model_selection import train_test_split\n",
    "import warnings\n",
    "\n",
    "warnings.filterwarnings('ignore')"
   ]
  },
  {
   "cell_type": "code",
   "execution_count": 2,
   "id": "eaa3bf32",
   "metadata": {},
   "outputs": [],
   "source": [
    "import matplotlib.pyplot as plt\n",
    "import seaborn as sns\n",
    "import pandas as pd"
   ]
  },
  {
   "cell_type": "code",
   "execution_count": 162,
   "id": "882d0170",
   "metadata": {},
   "outputs": [],
   "source": [
    "# Set Matplotlib defaults\n",
    "plt.style.use(\"seaborn-whitegrid\")\n",
    "plt.rc(\"figure\", autolayout=True, figsize=(11, 4))\n",
    "plt.rc(\n",
    "    \"axes\",\n",
    "    labelweight=\"bold\",\n",
    "    labelsize=\"large\",\n",
    "    titleweight=\"bold\",\n",
    "    titlesize=16,\n",
    "    titlepad=10,\n",
    ")\n",
    "plot_params = dict(\n",
    "    color=\"0.75\",\n",
    "    style=\".-\",\n",
    "    markeredgecolor=\"0.25\",\n",
    "    markerfacecolor=\"0.25\",\n",
    ")"
   ]
  },
  {
   "cell_type": "markdown",
   "id": "7a4d214f",
   "metadata": {},
   "source": [
    "# AIRbnb 데이터 분석\n",
    "\n",
    "## Todo\n",
    "\n",
    "### 전처리\n",
    " - null값 체크\n",
    " - 중복값 체크\n",
    " - 잘못된 값 삭제\n",
    " - 필요없는 값 삭제\n",
    "\n",
    "### 분석\n",
    " - MI: target\n",
    " - title 살펴보고 NLP작업"
   ]
  },
  {
   "cell_type": "code",
   "execution_count": 5,
   "id": "d7a0f6cd",
   "metadata": {},
   "outputs": [
    {
     "data": {
      "text/html": [
       "<div>\n",
       "<style scoped>\n",
       "    .dataframe tbody tr th:only-of-type {\n",
       "        vertical-align: middle;\n",
       "    }\n",
       "\n",
       "    .dataframe tbody tr th {\n",
       "        vertical-align: top;\n",
       "    }\n",
       "\n",
       "    .dataframe thead th {\n",
       "        text-align: right;\n",
       "    }\n",
       "</style>\n",
       "<table border=\"1\" class=\"dataframe\">\n",
       "  <thead>\n",
       "    <tr style=\"text-align: right;\">\n",
       "      <th></th>\n",
       "      <th>Host Id</th>\n",
       "      <th>Host Since</th>\n",
       "      <th>Name</th>\n",
       "      <th>Neighbourhood</th>\n",
       "      <th>Property Type</th>\n",
       "      <th>Review Scores Rating (bin)</th>\n",
       "      <th>Room Type</th>\n",
       "      <th>Zipcode</th>\n",
       "      <th>Beds</th>\n",
       "      <th>Number of Records</th>\n",
       "      <th>Number Of Reviews</th>\n",
       "      <th>Price</th>\n",
       "      <th>Review Scores Rating</th>\n",
       "    </tr>\n",
       "  </thead>\n",
       "  <tbody>\n",
       "    <tr>\n",
       "      <th>0</th>\n",
       "      <td>5162530</td>\n",
       "      <td>NaT</td>\n",
       "      <td>1 Bedroom in Prime Williamsburg</td>\n",
       "      <td>Brooklyn</td>\n",
       "      <td>Apartment</td>\n",
       "      <td>NaN</td>\n",
       "      <td>Entire home/apt</td>\n",
       "      <td>11249.0</td>\n",
       "      <td>1.0</td>\n",
       "      <td>1</td>\n",
       "      <td>0</td>\n",
       "      <td>145</td>\n",
       "      <td>NaN</td>\n",
       "    </tr>\n",
       "    <tr>\n",
       "      <th>1</th>\n",
       "      <td>33134899</td>\n",
       "      <td>NaT</td>\n",
       "      <td>Sunny, Private room in Bushwick</td>\n",
       "      <td>Brooklyn</td>\n",
       "      <td>Apartment</td>\n",
       "      <td>NaN</td>\n",
       "      <td>Private room</td>\n",
       "      <td>11206.0</td>\n",
       "      <td>1.0</td>\n",
       "      <td>1</td>\n",
       "      <td>1</td>\n",
       "      <td>37</td>\n",
       "      <td>NaN</td>\n",
       "    </tr>\n",
       "    <tr>\n",
       "      <th>2</th>\n",
       "      <td>39608626</td>\n",
       "      <td>NaT</td>\n",
       "      <td>Sunny Room in Harlem</td>\n",
       "      <td>Manhattan</td>\n",
       "      <td>Apartment</td>\n",
       "      <td>NaN</td>\n",
       "      <td>Private room</td>\n",
       "      <td>10032.0</td>\n",
       "      <td>1.0</td>\n",
       "      <td>1</td>\n",
       "      <td>1</td>\n",
       "      <td>28</td>\n",
       "      <td>NaN</td>\n",
       "    </tr>\n",
       "    <tr>\n",
       "      <th>3</th>\n",
       "      <td>500</td>\n",
       "      <td>2008-06-26</td>\n",
       "      <td>Gorgeous 1 BR with Private Balcony</td>\n",
       "      <td>Manhattan</td>\n",
       "      <td>Apartment</td>\n",
       "      <td>NaN</td>\n",
       "      <td>Entire home/apt</td>\n",
       "      <td>10024.0</td>\n",
       "      <td>3.0</td>\n",
       "      <td>1</td>\n",
       "      <td>0</td>\n",
       "      <td>199</td>\n",
       "      <td>NaN</td>\n",
       "    </tr>\n",
       "    <tr>\n",
       "      <th>4</th>\n",
       "      <td>500</td>\n",
       "      <td>2008-06-26</td>\n",
       "      <td>Trendy Times Square Loft</td>\n",
       "      <td>Manhattan</td>\n",
       "      <td>Apartment</td>\n",
       "      <td>95.0</td>\n",
       "      <td>Private room</td>\n",
       "      <td>10036.0</td>\n",
       "      <td>3.0</td>\n",
       "      <td>1</td>\n",
       "      <td>39</td>\n",
       "      <td>549</td>\n",
       "      <td>96.0</td>\n",
       "    </tr>\n",
       "  </tbody>\n",
       "</table>\n",
       "</div>"
      ],
      "text/plain": [
       "    Host Id Host Since                                Name Neighbourhood   \\\n",
       "0   5162530        NaT     1 Bedroom in Prime Williamsburg       Brooklyn   \n",
       "1  33134899        NaT     Sunny, Private room in Bushwick       Brooklyn   \n",
       "2  39608626        NaT                Sunny Room in Harlem      Manhattan   \n",
       "3       500 2008-06-26  Gorgeous 1 BR with Private Balcony      Manhattan   \n",
       "4       500 2008-06-26            Trendy Times Square Loft      Manhattan   \n",
       "\n",
       "  Property Type  Review Scores Rating (bin)        Room Type  Zipcode  Beds  \\\n",
       "0     Apartment                         NaN  Entire home/apt  11249.0   1.0   \n",
       "1     Apartment                         NaN     Private room  11206.0   1.0   \n",
       "2     Apartment                         NaN     Private room  10032.0   1.0   \n",
       "3     Apartment                         NaN  Entire home/apt  10024.0   3.0   \n",
       "4     Apartment                        95.0     Private room  10036.0   3.0   \n",
       "\n",
       "   Number of Records  Number Of Reviews  Price  Review Scores Rating  \n",
       "0                  1                  0    145                   NaN  \n",
       "1                  1                  1     37                   NaN  \n",
       "2                  1                  1     28                   NaN  \n",
       "3                  1                  0    199                   NaN  \n",
       "4                  1                 39    549                  96.0  "
      ]
     },
     "execution_count": 5,
     "metadata": {},
     "output_type": "execute_result"
    }
   ],
   "source": [
    "df = pd.read_excel('./data/airbnb.xlsx')\n",
    "df.head()"
   ]
  },
  {
   "cell_type": "code",
   "execution_count": 6,
   "id": "cb1d3258",
   "metadata": {},
   "outputs": [
    {
     "name": "stdout",
     "output_type": "stream",
     "text": [
      "<class 'pandas.core.frame.DataFrame'>\n",
      "RangeIndex: 30478 entries, 0 to 30477\n",
      "Data columns (total 13 columns):\n",
      " #   Column                      Non-Null Count  Dtype         \n",
      "---  ------                      --------------  -----         \n",
      " 0   Host Id                     30478 non-null  int64         \n",
      " 1   Host Since                  30475 non-null  datetime64[ns]\n",
      " 2   Name                        30478 non-null  object        \n",
      " 3   Neighbourhood               30478 non-null  object        \n",
      " 4   Property Type               30475 non-null  object        \n",
      " 5   Review Scores Rating (bin)  22155 non-null  float64       \n",
      " 6   Room Type                   30478 non-null  object        \n",
      " 7   Zipcode                     30344 non-null  float64       \n",
      " 8   Beds                        30393 non-null  float64       \n",
      " 9   Number of Records           30478 non-null  int64         \n",
      " 10  Number Of Reviews           30478 non-null  int64         \n",
      " 11  Price                       30478 non-null  int64         \n",
      " 12  Review Scores Rating        22155 non-null  float64       \n",
      "dtypes: datetime64[ns](1), float64(4), int64(4), object(4)\n",
      "memory usage: 3.0+ MB\n"
     ]
    }
   ],
   "source": [
    "df.info()"
   ]
  },
  {
   "cell_type": "code",
   "execution_count": null,
   "id": "648d0348",
   "metadata": {},
   "outputs": [],
   "source": []
  },
  {
   "cell_type": "code",
   "execution_count": null,
   "id": "bc58e3a4",
   "metadata": {},
   "outputs": [],
   "source": []
  },
  {
   "cell_type": "markdown",
   "id": "20351013",
   "metadata": {},
   "source": [
    "# object factorize 하기 전에 null 데이터 확인"
   ]
  },
  {
   "cell_type": "markdown",
   "id": "d483285a",
   "metadata": {},
   "source": [
    "침대수 없는 데이터 살펴보기. 값을 어떻게 채울까?\n",
    "- 총 85개.\n",
    "- median값으로 "
   ]
  },
  {
   "cell_type": "code",
   "execution_count": null,
   "id": "df960661",
   "metadata": {},
   "outputs": [],
   "source": [
    "# 침대수 null 값 살펴보기\n",
    "# Name에서 침대수 정보를 알 수 있을까? -> 부분적으로 알 수 있음\n",
    "\n",
    "df[df['Beds'].isna()] # beds 값 없는 애들만 살펴보기\n",
    "no_bed_info = df[df['Beds'].isna()]\n",
    "no_bed_info[no_bed_info['Name'].str.contains('Bed|bed|br|bd', regex=True)] #Name에 beds값 정보가 있는가?"
   ]
  },
  {
   "cell_type": "code",
   "execution_count": null,
   "id": "cd5fd56a",
   "metadata": {},
   "outputs": [],
   "source": [
    "# media 값으로 채워넣기\n",
    "\n",
    "beds_meidan = df.groupby(['Property Type'])[['Beds']].median()\n",
    "for p_type in beds_meidan.index:\n",
    "    df[df['Property Type']==p_type] = df[df['Property Type']==p_type].fillna(beds_meidan.loc[p_type]['Beds'])\n",
    "\n",
    "df.info()"
   ]
  },
  {
   "cell_type": "markdown",
   "id": "7236cddc",
   "metadata": {},
   "source": [
    "Property Type 3개 null -> Other로 채워넣기"
   ]
  },
  {
   "cell_type": "code",
   "execution_count": 83,
   "id": "be49ee8a",
   "metadata": {},
   "outputs": [],
   "source": [
    "df['Property Type'] = df['Property Type'].fillna('Other')"
   ]
  },
  {
   "cell_type": "markdown",
   "id": "7c6070bc",
   "metadata": {},
   "source": [
    "Review Scores Rating (bin) 없는 데이터는 1개 -> 삭제"
   ]
  },
  {
   "cell_type": "code",
   "execution_count": 85,
   "id": "4963d57b",
   "metadata": {},
   "outputs": [
    {
     "data": {
      "text/html": [
       "<div>\n",
       "<style scoped>\n",
       "    .dataframe tbody tr th:only-of-type {\n",
       "        vertical-align: middle;\n",
       "    }\n",
       "\n",
       "    .dataframe tbody tr th {\n",
       "        vertical-align: top;\n",
       "    }\n",
       "\n",
       "    .dataframe thead th {\n",
       "        text-align: right;\n",
       "    }\n",
       "</style>\n",
       "<table border=\"1\" class=\"dataframe\">\n",
       "  <thead>\n",
       "    <tr style=\"text-align: right;\">\n",
       "      <th></th>\n",
       "      <th>Host Id</th>\n",
       "      <th>Host Since</th>\n",
       "      <th>Name</th>\n",
       "      <th>Neighbourhood</th>\n",
       "      <th>Property Type</th>\n",
       "      <th>Review Scores Rating (bin)</th>\n",
       "      <th>Room Type</th>\n",
       "      <th>Zipcode</th>\n",
       "      <th>Beds</th>\n",
       "      <th>Number of Records</th>\n",
       "      <th>Number Of Reviews</th>\n",
       "      <th>Price</th>\n",
       "      <th>Review Scores Rating</th>\n",
       "    </tr>\n",
       "  </thead>\n",
       "  <tbody>\n",
       "    <tr>\n",
       "      <th>20551</th>\n",
       "      <td>16915992</td>\n",
       "      <td>2014-06-17 00:00:00</td>\n",
       "      <td>Entire home/apt in New York</td>\n",
       "      <td>Manhattan</td>\n",
       "      <td>Other</td>\n",
       "      <td>NaN</td>\n",
       "      <td>Entire home/apt</td>\n",
       "      <td>10002.0</td>\n",
       "      <td>2.0</td>\n",
       "      <td>1</td>\n",
       "      <td>0</td>\n",
       "      <td>120</td>\n",
       "      <td>NaN</td>\n",
       "    </tr>\n",
       "  </tbody>\n",
       "</table>\n",
       "</div>"
      ],
      "text/plain": [
       "        Host Id           Host Since                         Name  \\\n",
       "20551  16915992  2014-06-17 00:00:00  Entire home/apt in New York   \n",
       "\n",
       "      Neighbourhood  Property Type  Review Scores Rating (bin)  \\\n",
       "20551      Manhattan         Other                         NaN   \n",
       "\n",
       "             Room Type  Zipcode  Beds  Number of Records  Number Of Reviews  \\\n",
       "20551  Entire home/apt  10002.0   2.0                  1                  0   \n",
       "\n",
       "       Price  Review Scores Rating  \n",
       "20551    120                   NaN  "
      ]
     },
     "execution_count": 85,
     "metadata": {},
     "output_type": "execute_result"
    }
   ],
   "source": [
    "df[df['Review Scores Rating (bin)'].isna()] # df[df['Review Scores Rating'].isna()]"
   ]
  },
  {
   "cell_type": "code",
   "execution_count": 89,
   "id": "c1bd70b0",
   "metadata": {},
   "outputs": [],
   "source": [
    "df = df.dropna()"
   ]
  },
  {
   "cell_type": "code",
   "execution_count": 90,
   "id": "d2194fcb",
   "metadata": {},
   "outputs": [
    {
     "name": "stdout",
     "output_type": "stream",
     "text": [
      "<class 'pandas.core.frame.DataFrame'>\n",
      "Int64Index: 30477 entries, 0 to 30477\n",
      "Data columns (total 13 columns):\n",
      " #   Column                      Non-Null Count  Dtype  \n",
      "---  ------                      --------------  -----  \n",
      " 0   Host Id                     30477 non-null  int64  \n",
      " 1   Host Since                  30477 non-null  object \n",
      " 2   Name                        30477 non-null  object \n",
      " 3   Neighbourhood               30477 non-null  object \n",
      " 4   Property Type               30477 non-null  object \n",
      " 5   Review Scores Rating (bin)  30477 non-null  float64\n",
      " 6   Room Type                   30477 non-null  object \n",
      " 7   Zipcode                     30477 non-null  float64\n",
      " 8   Beds                        30477 non-null  float64\n",
      " 9   Number of Records           30477 non-null  int64  \n",
      " 10  Number Of Reviews           30477 non-null  int64  \n",
      " 11  Price                       30477 non-null  int64  \n",
      " 12  Review Scores Rating        30477 non-null  float64\n",
      "dtypes: float64(4), int64(4), object(5)\n",
      "memory usage: 3.3+ MB\n"
     ]
    }
   ],
   "source": [
    "df.info()"
   ]
  },
  {
   "cell_type": "markdown",
   "id": "54683039",
   "metadata": {},
   "source": [
    "MI 구하는데 필요없는 값들 제외\n",
    "- Host Id\n",
    "- Host Since\n",
    "- Review Scores Rating (bin)\n",
    "- Number of Records\n",
    "- Name\n"
   ]
  },
  {
   "cell_type": "code",
   "execution_count": 210,
   "id": "29ae77a2",
   "metadata": {},
   "outputs": [],
   "source": [
    "X = df.copy()\n",
    "X.columns\n",
    "X = X.drop(labels=['Host Id', 'Host Since', 'Name','Review Scores Rating (bin)','Number of Records'], axis=1)"
   ]
  },
  {
   "cell_type": "markdown",
   "id": "d04a2e79",
   "metadata": {},
   "source": [
    "object 값, zipcode factorize(카테고리화) 하기"
   ]
  },
  {
   "cell_type": "code",
   "execution_count": 95,
   "id": "502897cf",
   "metadata": {},
   "outputs": [
    {
     "name": "stdout",
     "output_type": "stream",
     "text": [
      "<class 'pandas.core.frame.DataFrame'>\n",
      "Int64Index: 30477 entries, 0 to 30477\n",
      "Data columns (total 3 columns):\n",
      " #   Column          Non-Null Count  Dtype \n",
      "---  ------          --------------  ----- \n",
      " 0   Neighbourhood   30477 non-null  object\n",
      " 1   Property Type   30477 non-null  object\n",
      " 2   Room Type       30477 non-null  object\n",
      "dtypes: object(3)\n",
      "memory usage: 1.9+ MB\n"
     ]
    }
   ],
   "source": [
    "X.select_dtypes(\"object\").info()"
   ]
  },
  {
   "cell_type": "code",
   "execution_count": 27,
   "id": "66e4b5e2",
   "metadata": {},
   "outputs": [
    {
     "data": {
      "text/plain": [
       "0              Apartment\n",
       "13                 House\n",
       "38                 Other\n",
       "50       Bed & Breakfast\n",
       "59                  Loft\n",
       "101          Condominium\n",
       "353            Townhouse\n",
       "433                  NaN\n",
       "441                 Dorm\n",
       "521                 Boat\n",
       "1553               Cabin\n",
       "3103               Villa\n",
       "3848            Bungalow\n",
       "9549           Camper/RV\n",
       "10015          Treehouse\n",
       "13172               Tent\n",
       "13817                Hut\n",
       "14200         Lighthouse\n",
       "14847             Chalet\n",
       "15565             Castle\n",
       "Name: Property Type, dtype: object"
      ]
     },
     "execution_count": 27,
     "metadata": {},
     "output_type": "execute_result"
    }
   ],
   "source": [
    "X['Property Type'].drop_duplicates()"
   ]
  },
  {
   "cell_type": "code",
   "execution_count": null,
   "id": "36b7053f",
   "metadata": {},
   "outputs": [],
   "source": []
  },
  {
   "cell_type": "code",
   "execution_count": 211,
   "id": "1318871a",
   "metadata": {},
   "outputs": [
    {
     "name": "stdout",
     "output_type": "stream",
     "text": [
      "<class 'pandas.core.frame.DataFrame'>\n",
      "Int64Index: 30477 entries, 0 to 30477\n",
      "Data columns (total 3 columns):\n",
      " #   Column         Non-Null Count  Dtype \n",
      "---  ------         --------------  ----- \n",
      " 0   Neighbourhood  30477 non-null  object\n",
      " 1   Property Type  30477 non-null  object\n",
      " 2   Room Type      30477 non-null  object\n",
      "dtypes: object(3)\n",
      "memory usage: 1.9+ MB\n"
     ]
    }
   ],
   "source": [
    "# Property type null값 Other로 \n",
    "X['Property Type'] = X['Property Type'].fillna('Other')\n",
    "X.select_dtypes(\"object\").info()"
   ]
  },
  {
   "cell_type": "markdown",
   "id": "ed6129fe",
   "metadata": {},
   "source": [
    "Name 제외한 object값들 -> category 값으로 변경"
   ]
  },
  {
   "cell_type": "code",
   "execution_count": 212,
   "id": "600182f8",
   "metadata": {},
   "outputs": [
    {
     "name": "stdout",
     "output_type": "stream",
     "text": [
      "Neighbourhood\n",
      "Property Type\n",
      "Room Type\n"
     ]
    }
   ],
   "source": [
    "for col in X.select_dtypes(\"object\"):\n",
    "    print(col)\n",
    "    X[col], _ = X[col].factorize()\n",
    "X['Zipcode'], _ = X['Zipcode'].factorize()\n",
    "X['Beds'], _ = X['Beds'].factorize()"
   ]
  },
  {
   "cell_type": "code",
   "execution_count": 213,
   "id": "0e587653",
   "metadata": {},
   "outputs": [],
   "source": [
    "X['Review Scores Rating'] = X['Review Scores Rating'].astype('int')"
   ]
  },
  {
   "cell_type": "code",
   "execution_count": 214,
   "id": "08b18ec1",
   "metadata": {},
   "outputs": [
    {
     "data": {
      "text/html": [
       "<div>\n",
       "<style scoped>\n",
       "    .dataframe tbody tr th:only-of-type {\n",
       "        vertical-align: middle;\n",
       "    }\n",
       "\n",
       "    .dataframe tbody tr th {\n",
       "        vertical-align: top;\n",
       "    }\n",
       "\n",
       "    .dataframe thead th {\n",
       "        text-align: right;\n",
       "    }\n",
       "</style>\n",
       "<table border=\"1\" class=\"dataframe\">\n",
       "  <thead>\n",
       "    <tr style=\"text-align: right;\">\n",
       "      <th></th>\n",
       "      <th>Neighbourhood</th>\n",
       "      <th>Property Type</th>\n",
       "      <th>Room Type</th>\n",
       "      <th>Zipcode</th>\n",
       "      <th>Beds</th>\n",
       "      <th>Number Of Reviews</th>\n",
       "      <th>Price</th>\n",
       "      <th>Review Scores Rating</th>\n",
       "    </tr>\n",
       "  </thead>\n",
       "  <tbody>\n",
       "    <tr>\n",
       "      <th>0</th>\n",
       "      <td>0</td>\n",
       "      <td>0</td>\n",
       "      <td>0</td>\n",
       "      <td>0</td>\n",
       "      <td>0</td>\n",
       "      <td>0</td>\n",
       "      <td>145</td>\n",
       "      <td>1</td>\n",
       "    </tr>\n",
       "    <tr>\n",
       "      <th>1</th>\n",
       "      <td>0</td>\n",
       "      <td>0</td>\n",
       "      <td>1</td>\n",
       "      <td>1</td>\n",
       "      <td>0</td>\n",
       "      <td>1</td>\n",
       "      <td>37</td>\n",
       "      <td>1</td>\n",
       "    </tr>\n",
       "    <tr>\n",
       "      <th>2</th>\n",
       "      <td>1</td>\n",
       "      <td>0</td>\n",
       "      <td>1</td>\n",
       "      <td>2</td>\n",
       "      <td>0</td>\n",
       "      <td>1</td>\n",
       "      <td>28</td>\n",
       "      <td>1</td>\n",
       "    </tr>\n",
       "    <tr>\n",
       "      <th>3</th>\n",
       "      <td>1</td>\n",
       "      <td>0</td>\n",
       "      <td>0</td>\n",
       "      <td>3</td>\n",
       "      <td>1</td>\n",
       "      <td>0</td>\n",
       "      <td>199</td>\n",
       "      <td>1</td>\n",
       "    </tr>\n",
       "    <tr>\n",
       "      <th>4</th>\n",
       "      <td>1</td>\n",
       "      <td>0</td>\n",
       "      <td>1</td>\n",
       "      <td>4</td>\n",
       "      <td>1</td>\n",
       "      <td>39</td>\n",
       "      <td>549</td>\n",
       "      <td>96</td>\n",
       "    </tr>\n",
       "    <tr>\n",
       "      <th>...</th>\n",
       "      <td>...</td>\n",
       "      <td>...</td>\n",
       "      <td>...</td>\n",
       "      <td>...</td>\n",
       "      <td>...</td>\n",
       "      <td>...</td>\n",
       "      <td>...</td>\n",
       "      <td>...</td>\n",
       "    </tr>\n",
       "    <tr>\n",
       "      <th>30473</th>\n",
       "      <td>2</td>\n",
       "      <td>0</td>\n",
       "      <td>0</td>\n",
       "      <td>68</td>\n",
       "      <td>4</td>\n",
       "      <td>0</td>\n",
       "      <td>300</td>\n",
       "      <td>1</td>\n",
       "    </tr>\n",
       "    <tr>\n",
       "      <th>30474</th>\n",
       "      <td>0</td>\n",
       "      <td>0</td>\n",
       "      <td>1</td>\n",
       "      <td>79</td>\n",
       "      <td>2</td>\n",
       "      <td>0</td>\n",
       "      <td>125</td>\n",
       "      <td>1</td>\n",
       "    </tr>\n",
       "    <tr>\n",
       "      <th>30475</th>\n",
       "      <td>0</td>\n",
       "      <td>2</td>\n",
       "      <td>1</td>\n",
       "      <td>1</td>\n",
       "      <td>0</td>\n",
       "      <td>0</td>\n",
       "      <td>80</td>\n",
       "      <td>1</td>\n",
       "    </tr>\n",
       "    <tr>\n",
       "      <th>30476</th>\n",
       "      <td>1</td>\n",
       "      <td>0</td>\n",
       "      <td>1</td>\n",
       "      <td>14</td>\n",
       "      <td>0</td>\n",
       "      <td>0</td>\n",
       "      <td>35</td>\n",
       "      <td>1</td>\n",
       "    </tr>\n",
       "    <tr>\n",
       "      <th>30477</th>\n",
       "      <td>2</td>\n",
       "      <td>1</td>\n",
       "      <td>1</td>\n",
       "      <td>30</td>\n",
       "      <td>0</td>\n",
       "      <td>0</td>\n",
       "      <td>80</td>\n",
       "      <td>1</td>\n",
       "    </tr>\n",
       "  </tbody>\n",
       "</table>\n",
       "<p>30477 rows × 8 columns</p>\n",
       "</div>"
      ],
      "text/plain": [
       "       Neighbourhood  Property Type  Room Type  Zipcode  Beds  \\\n",
       "0                  0              0          0        0     0   \n",
       "1                  0              0          1        1     0   \n",
       "2                  1              0          1        2     0   \n",
       "3                  1              0          0        3     1   \n",
       "4                  1              0          1        4     1   \n",
       "...              ...            ...        ...      ...   ...   \n",
       "30473              2              0          0       68     4   \n",
       "30474              0              0          1       79     2   \n",
       "30475              0              2          1        1     0   \n",
       "30476              1              0          1       14     0   \n",
       "30477              2              1          1       30     0   \n",
       "\n",
       "       Number Of Reviews  Price  Review Scores Rating  \n",
       "0                      0    145                     1  \n",
       "1                      1     37                     1  \n",
       "2                      1     28                     1  \n",
       "3                      0    199                     1  \n",
       "4                     39    549                    96  \n",
       "...                  ...    ...                   ...  \n",
       "30473                  0    300                     1  \n",
       "30474                  0    125                     1  \n",
       "30475                  0     80                     1  \n",
       "30476                  0     35                     1  \n",
       "30477                  0     80                     1  \n",
       "\n",
       "[30477 rows x 8 columns]"
      ]
     },
     "execution_count": 214,
     "metadata": {},
     "output_type": "execute_result"
    }
   ],
   "source": [
    "X"
   ]
  },
  {
   "cell_type": "code",
   "execution_count": 215,
   "id": "09533c68",
   "metadata": {},
   "outputs": [
    {
     "data": {
      "text/plain": [
       "Neighbourhood           True\n",
       "Property Type           True\n",
       "Room Type               True\n",
       "Zipcode                 True\n",
       "Beds                    True\n",
       "Number Of Reviews       True\n",
       "Price                   True\n",
       "Review Scores Rating    True\n",
       "dtype: bool"
      ]
     },
     "execution_count": 215,
     "metadata": {},
     "output_type": "execute_result"
    }
   ],
   "source": [
    "# All discrete features should now have integer dtypes (double-check this before using MI!)\n",
    "discrete_features = X.dtypes == int\n",
    "discrete_features"
   ]
  },
  {
   "cell_type": "code",
   "execution_count": 107,
   "id": "35cfc917",
   "metadata": {},
   "outputs": [],
   "source": [
    "y = X.pop('Price')"
   ]
  },
  {
   "cell_type": "code",
   "execution_count": 108,
   "id": "3c8ffabb",
   "metadata": {},
   "outputs": [
    {
     "data": {
      "text/html": [
       "<div>\n",
       "<style scoped>\n",
       "    .dataframe tbody tr th:only-of-type {\n",
       "        vertical-align: middle;\n",
       "    }\n",
       "\n",
       "    .dataframe tbody tr th {\n",
       "        vertical-align: top;\n",
       "    }\n",
       "\n",
       "    .dataframe thead th {\n",
       "        text-align: right;\n",
       "    }\n",
       "</style>\n",
       "<table border=\"1\" class=\"dataframe\">\n",
       "  <thead>\n",
       "    <tr style=\"text-align: right;\">\n",
       "      <th></th>\n",
       "      <th>Neighbourhood</th>\n",
       "      <th>Property Type</th>\n",
       "      <th>Room Type</th>\n",
       "      <th>Zipcode</th>\n",
       "      <th>Beds</th>\n",
       "      <th>Number Of Reviews</th>\n",
       "      <th>Review Scores Rating</th>\n",
       "    </tr>\n",
       "  </thead>\n",
       "  <tbody>\n",
       "    <tr>\n",
       "      <th>0</th>\n",
       "      <td>0</td>\n",
       "      <td>0</td>\n",
       "      <td>0</td>\n",
       "      <td>0</td>\n",
       "      <td>0</td>\n",
       "      <td>0</td>\n",
       "      <td>1</td>\n",
       "    </tr>\n",
       "    <tr>\n",
       "      <th>1</th>\n",
       "      <td>0</td>\n",
       "      <td>0</td>\n",
       "      <td>1</td>\n",
       "      <td>1</td>\n",
       "      <td>0</td>\n",
       "      <td>1</td>\n",
       "      <td>1</td>\n",
       "    </tr>\n",
       "    <tr>\n",
       "      <th>2</th>\n",
       "      <td>1</td>\n",
       "      <td>0</td>\n",
       "      <td>1</td>\n",
       "      <td>2</td>\n",
       "      <td>0</td>\n",
       "      <td>1</td>\n",
       "      <td>1</td>\n",
       "    </tr>\n",
       "    <tr>\n",
       "      <th>3</th>\n",
       "      <td>1</td>\n",
       "      <td>0</td>\n",
       "      <td>0</td>\n",
       "      <td>3</td>\n",
       "      <td>1</td>\n",
       "      <td>0</td>\n",
       "      <td>1</td>\n",
       "    </tr>\n",
       "    <tr>\n",
       "      <th>4</th>\n",
       "      <td>1</td>\n",
       "      <td>0</td>\n",
       "      <td>1</td>\n",
       "      <td>4</td>\n",
       "      <td>1</td>\n",
       "      <td>39</td>\n",
       "      <td>96</td>\n",
       "    </tr>\n",
       "    <tr>\n",
       "      <th>...</th>\n",
       "      <td>...</td>\n",
       "      <td>...</td>\n",
       "      <td>...</td>\n",
       "      <td>...</td>\n",
       "      <td>...</td>\n",
       "      <td>...</td>\n",
       "      <td>...</td>\n",
       "    </tr>\n",
       "    <tr>\n",
       "      <th>30473</th>\n",
       "      <td>2</td>\n",
       "      <td>0</td>\n",
       "      <td>0</td>\n",
       "      <td>68</td>\n",
       "      <td>4</td>\n",
       "      <td>0</td>\n",
       "      <td>1</td>\n",
       "    </tr>\n",
       "    <tr>\n",
       "      <th>30474</th>\n",
       "      <td>0</td>\n",
       "      <td>0</td>\n",
       "      <td>1</td>\n",
       "      <td>79</td>\n",
       "      <td>2</td>\n",
       "      <td>0</td>\n",
       "      <td>1</td>\n",
       "    </tr>\n",
       "    <tr>\n",
       "      <th>30475</th>\n",
       "      <td>0</td>\n",
       "      <td>2</td>\n",
       "      <td>1</td>\n",
       "      <td>1</td>\n",
       "      <td>0</td>\n",
       "      <td>0</td>\n",
       "      <td>1</td>\n",
       "    </tr>\n",
       "    <tr>\n",
       "      <th>30476</th>\n",
       "      <td>1</td>\n",
       "      <td>0</td>\n",
       "      <td>1</td>\n",
       "      <td>14</td>\n",
       "      <td>0</td>\n",
       "      <td>0</td>\n",
       "      <td>1</td>\n",
       "    </tr>\n",
       "    <tr>\n",
       "      <th>30477</th>\n",
       "      <td>2</td>\n",
       "      <td>1</td>\n",
       "      <td>1</td>\n",
       "      <td>30</td>\n",
       "      <td>0</td>\n",
       "      <td>0</td>\n",
       "      <td>1</td>\n",
       "    </tr>\n",
       "  </tbody>\n",
       "</table>\n",
       "<p>30477 rows × 7 columns</p>\n",
       "</div>"
      ],
      "text/plain": [
       "       Neighbourhood   Property Type  Room Type  Zipcode  Beds  \\\n",
       "0                   0              0          0        0     0   \n",
       "1                   0              0          1        1     0   \n",
       "2                   1              0          1        2     0   \n",
       "3                   1              0          0        3     1   \n",
       "4                   1              0          1        4     1   \n",
       "...               ...            ...        ...      ...   ...   \n",
       "30473               2              0          0       68     4   \n",
       "30474               0              0          1       79     2   \n",
       "30475               0              2          1        1     0   \n",
       "30476               1              0          1       14     0   \n",
       "30477               2              1          1       30     0   \n",
       "\n",
       "       Number Of Reviews  Review Scores Rating  \n",
       "0                      0                     1  \n",
       "1                      1                     1  \n",
       "2                      1                     1  \n",
       "3                      0                     1  \n",
       "4                     39                    96  \n",
       "...                  ...                   ...  \n",
       "30473                  0                     1  \n",
       "30474                  0                     1  \n",
       "30475                  0                     1  \n",
       "30476                  0                     1  \n",
       "30477                  0                     1  \n",
       "\n",
       "[30477 rows x 7 columns]"
      ]
     },
     "execution_count": 108,
     "metadata": {},
     "output_type": "execute_result"
    }
   ],
   "source": [
    "X"
   ]
  },
  {
   "cell_type": "markdown",
   "id": "a46a6bc0",
   "metadata": {},
   "source": [
    "# MI score  확인"
   ]
  },
  {
   "cell_type": "code",
   "execution_count": 111,
   "id": "49f04f09",
   "metadata": {},
   "outputs": [],
   "source": [
    "from sklearn.feature_selection import mutual_info_regression\n",
    "\n",
    "def make_mi_scores(X, y, discrete_features):\n",
    "    mi_scores = mutual_info_regression(X, y, discrete_features=discrete_features)\n",
    "    mi_scores = pd.Series(mi_scores, name=\"MI Scores\", index=X.columns)\n",
    "    mi_scores = mi_scores.sort_values(ascending=False)\n",
    "    return mi_scores"
   ]
  },
  {
   "cell_type": "code",
   "execution_count": 209,
   "id": "1997de5d",
   "metadata": {},
   "outputs": [
    {
     "data": {
      "text/html": [
       "<div>\n",
       "<style scoped>\n",
       "    .dataframe tbody tr th:only-of-type {\n",
       "        vertical-align: middle;\n",
       "    }\n",
       "\n",
       "    .dataframe tbody tr th {\n",
       "        vertical-align: top;\n",
       "    }\n",
       "\n",
       "    .dataframe thead th {\n",
       "        text-align: right;\n",
       "    }\n",
       "</style>\n",
       "<table border=\"1\" class=\"dataframe\">\n",
       "  <thead>\n",
       "    <tr style=\"text-align: right;\">\n",
       "      <th></th>\n",
       "      <th>Neighbourhood</th>\n",
       "      <th>Property Type</th>\n",
       "      <th>Room Type</th>\n",
       "      <th>Zipcode</th>\n",
       "      <th>Beds</th>\n",
       "      <th>Number Of Reviews</th>\n",
       "      <th>Review Scores Rating</th>\n",
       "    </tr>\n",
       "  </thead>\n",
       "  <tbody>\n",
       "    <tr>\n",
       "      <th>0</th>\n",
       "      <td>0</td>\n",
       "      <td>0</td>\n",
       "      <td>0</td>\n",
       "      <td>0</td>\n",
       "      <td>0</td>\n",
       "      <td>0</td>\n",
       "      <td>1</td>\n",
       "    </tr>\n",
       "    <tr>\n",
       "      <th>1</th>\n",
       "      <td>0</td>\n",
       "      <td>0</td>\n",
       "      <td>1</td>\n",
       "      <td>1</td>\n",
       "      <td>0</td>\n",
       "      <td>1</td>\n",
       "      <td>1</td>\n",
       "    </tr>\n",
       "    <tr>\n",
       "      <th>2</th>\n",
       "      <td>1</td>\n",
       "      <td>0</td>\n",
       "      <td>1</td>\n",
       "      <td>2</td>\n",
       "      <td>0</td>\n",
       "      <td>1</td>\n",
       "      <td>1</td>\n",
       "    </tr>\n",
       "    <tr>\n",
       "      <th>3</th>\n",
       "      <td>1</td>\n",
       "      <td>0</td>\n",
       "      <td>0</td>\n",
       "      <td>3</td>\n",
       "      <td>1</td>\n",
       "      <td>0</td>\n",
       "      <td>1</td>\n",
       "    </tr>\n",
       "    <tr>\n",
       "      <th>4</th>\n",
       "      <td>1</td>\n",
       "      <td>0</td>\n",
       "      <td>1</td>\n",
       "      <td>4</td>\n",
       "      <td>1</td>\n",
       "      <td>39</td>\n",
       "      <td>96</td>\n",
       "    </tr>\n",
       "    <tr>\n",
       "      <th>...</th>\n",
       "      <td>...</td>\n",
       "      <td>...</td>\n",
       "      <td>...</td>\n",
       "      <td>...</td>\n",
       "      <td>...</td>\n",
       "      <td>...</td>\n",
       "      <td>...</td>\n",
       "    </tr>\n",
       "    <tr>\n",
       "      <th>30473</th>\n",
       "      <td>2</td>\n",
       "      <td>0</td>\n",
       "      <td>0</td>\n",
       "      <td>68</td>\n",
       "      <td>4</td>\n",
       "      <td>0</td>\n",
       "      <td>1</td>\n",
       "    </tr>\n",
       "    <tr>\n",
       "      <th>30474</th>\n",
       "      <td>0</td>\n",
       "      <td>0</td>\n",
       "      <td>1</td>\n",
       "      <td>79</td>\n",
       "      <td>2</td>\n",
       "      <td>0</td>\n",
       "      <td>1</td>\n",
       "    </tr>\n",
       "    <tr>\n",
       "      <th>30475</th>\n",
       "      <td>0</td>\n",
       "      <td>2</td>\n",
       "      <td>1</td>\n",
       "      <td>1</td>\n",
       "      <td>0</td>\n",
       "      <td>0</td>\n",
       "      <td>1</td>\n",
       "    </tr>\n",
       "    <tr>\n",
       "      <th>30476</th>\n",
       "      <td>1</td>\n",
       "      <td>0</td>\n",
       "      <td>1</td>\n",
       "      <td>14</td>\n",
       "      <td>0</td>\n",
       "      <td>0</td>\n",
       "      <td>1</td>\n",
       "    </tr>\n",
       "    <tr>\n",
       "      <th>30477</th>\n",
       "      <td>2</td>\n",
       "      <td>1</td>\n",
       "      <td>1</td>\n",
       "      <td>30</td>\n",
       "      <td>0</td>\n",
       "      <td>0</td>\n",
       "      <td>1</td>\n",
       "    </tr>\n",
       "  </tbody>\n",
       "</table>\n",
       "<p>30477 rows × 7 columns</p>\n",
       "</div>"
      ],
      "text/plain": [
       "       Neighbourhood   Property Type  Room Type  Zipcode  Beds  \\\n",
       "0                   0              0          0        0     0   \n",
       "1                   0              0          1        1     0   \n",
       "2                   1              0          1        2     0   \n",
       "3                   1              0          0        3     1   \n",
       "4                   1              0          1        4     1   \n",
       "...               ...            ...        ...      ...   ...   \n",
       "30473               2              0          0       68     4   \n",
       "30474               0              0          1       79     2   \n",
       "30475               0              2          1        1     0   \n",
       "30476               1              0          1       14     0   \n",
       "30477               2              1          1       30     0   \n",
       "\n",
       "       Number Of Reviews  Review Scores Rating  \n",
       "0                      0                     1  \n",
       "1                      1                     1  \n",
       "2                      1                     1  \n",
       "3                      0                     1  \n",
       "4                     39                    96  \n",
       "...                  ...                   ...  \n",
       "30473                  0                     1  \n",
       "30474                  0                     1  \n",
       "30475                  0                     1  \n",
       "30476                  0                     1  \n",
       "30477                  0                     1  \n",
       "\n",
       "[30477 rows x 7 columns]"
      ]
     },
     "execution_count": 209,
     "metadata": {},
     "output_type": "execute_result"
    }
   ],
   "source": [
    "X"
   ]
  },
  {
   "cell_type": "code",
   "execution_count": 112,
   "id": "ff09d8ca",
   "metadata": {},
   "outputs": [
    {
     "data": {
      "text/plain": [
       "Room Type    0.319625\n",
       "Zipcode      0.242479\n",
       "Beds         0.111568\n",
       "Name: MI Scores, dtype: float64"
      ]
     },
     "execution_count": 112,
     "metadata": {},
     "output_type": "execute_result"
    }
   ],
   "source": [
    "mi_scores = make_mi_scores(X, y, discrete_features)\n",
    "mi_scores[:3]  # show a few features with their MI scores"
   ]
  },
  {
   "cell_type": "markdown",
   "id": "85aed885",
   "metadata": {},
   "source": [
    "feature가 price와 관계가 그리 커보이진 않는다"
   ]
  },
  {
   "cell_type": "code",
   "execution_count": 113,
   "id": "1265c9d8",
   "metadata": {},
   "outputs": [
    {
     "data": {
      "text/plain": [
       "Room Type               0.319625\n",
       "Zipcode                 0.242479\n",
       "Beds                    0.111568\n",
       "Neighbourhood           0.086793\n",
       "Review Scores Rating    0.024832\n",
       "Property Type           0.023130\n",
       "Number Of Reviews       0.018364\n",
       "Name: MI Scores, dtype: float64"
      ]
     },
     "execution_count": 113,
     "metadata": {},
     "output_type": "execute_result"
    }
   ],
   "source": [
    "mi_scores"
   ]
  },
  {
   "cell_type": "code",
   "execution_count": 115,
   "id": "7d7b69cd",
   "metadata": {},
   "outputs": [
    {
     "data": {
      "image/png": "[encoded data removed]",
      "text/plain": [
       "<Figure size 800x500 with 1 Axes>"
      ]
     },
     "metadata": {
      "needs_background": "light"
     },
     "output_type": "display_data"
    }
   ],
   "source": [
    "import numpy as np \n",
    "def plot_mi_scores(scores):\n",
    "    scores = scores.sort_values(ascending=True)\n",
    "    width = np.arange(len(scores))\n",
    "    ticks = list(scores.index)\n",
    "    plt.barh(width, scores)\n",
    "    plt.yticks(width, ticks)\n",
    "    plt.title(\"Mutual Information Scores\")\n",
    "\n",
    "\n",
    "plt.figure(dpi=100, figsize=(8, 5))\n",
    "plot_mi_scores(mi_scores)"
   ]
  },
  {
   "cell_type": "markdown",
   "id": "d8e59088",
   "metadata": {},
   "source": [
    "Room type이 어느정도 price에 영향을 미치더라도 Entire home/apt 가 price 분산이 커서 price 예측이 쉽진 않을 것 같다"
   ]
  },
  {
   "cell_type": "code",
   "execution_count": 203,
   "id": "e030fbaf",
   "metadata": {},
   "outputs": [
    {
     "data": {
      "image/png": "[encoded data removed]",
      "text/plain": [
       "<Figure size 360x360 with 1 Axes>"
      ]
     },
     "metadata": {},
     "output_type": "display_data"
    }
   ],
   "source": [
    "sns.relplot(x=\"Room Type\", y=\"Price\", data=df);\n",
    "#sns.lmplot(x=\"Room Type\", y=\"Price\", data=df);"
   ]
  },
  {
   "cell_type": "code",
   "execution_count": 181,
   "id": "86f6bff6",
   "metadata": {},
   "outputs": [],
   "source": [
    "df = df.rename(columns={'Neighbourhood ':'Neighbourhood'})"
   ]
  },
  {
   "cell_type": "code",
   "execution_count": 186,
   "id": "6efde3d6",
   "metadata": {},
   "outputs": [
    {
     "data": {
      "image/png": "[encoded data removed]",
      "text/plain": [
       "<Figure size 461.625x360 with 1 Axes>"
      ]
     },
     "metadata": {},
     "output_type": "display_data"
    }
   ],
   "source": [
    "sns.relplot(x=\"Room Type\", y=\"Price\", hue='Neighbourhood', data=df);"
   ]
  },
  {
   "cell_type": "code",
   "execution_count": 201,
   "id": "e94d0815",
   "metadata": {},
   "outputs": [
    {
     "data": {
      "image/png": "[encoded data removed]",
      "text/plain": [
       "<Figure size 360x360 with 1 Axes>"
      ]
     },
     "metadata": {},
     "output_type": "display_data"
    }
   ],
   "source": [
    "sns.relplot(x=\"Beds\", y=\"Price\", data=df); # , hue='Neighbourhood'"
   ]
  },
  {
   "cell_type": "code",
   "execution_count": 182,
   "id": "0ac8b931",
   "metadata": {},
   "outputs": [
    {
     "data": {
      "text/html": [
       "<div>\n",
       "<style scoped>\n",
       "    .dataframe tbody tr th:only-of-type {\n",
       "        vertical-align: middle;\n",
       "    }\n",
       "\n",
       "    .dataframe tbody tr th {\n",
       "        vertical-align: top;\n",
       "    }\n",
       "\n",
       "    .dataframe thead th {\n",
       "        text-align: right;\n",
       "    }\n",
       "</style>\n",
       "<table border=\"1\" class=\"dataframe\">\n",
       "  <thead>\n",
       "    <tr style=\"text-align: right;\">\n",
       "      <th></th>\n",
       "      <th>Price</th>\n",
       "      <th>Neighbourhood</th>\n",
       "    </tr>\n",
       "  </thead>\n",
       "  <tbody>\n",
       "    <tr>\n",
       "      <th>0</th>\n",
       "      <td>145</td>\n",
       "      <td>Brooklyn</td>\n",
       "    </tr>\n",
       "    <tr>\n",
       "      <th>1</th>\n",
       "      <td>37</td>\n",
       "      <td>Brooklyn</td>\n",
       "    </tr>\n",
       "    <tr>\n",
       "      <th>2</th>\n",
       "      <td>28</td>\n",
       "      <td>Manhattan</td>\n",
       "    </tr>\n",
       "    <tr>\n",
       "      <th>3</th>\n",
       "      <td>199</td>\n",
       "      <td>Manhattan</td>\n",
       "    </tr>\n",
       "    <tr>\n",
       "      <th>4</th>\n",
       "      <td>549</td>\n",
       "      <td>Manhattan</td>\n",
       "    </tr>\n",
       "    <tr>\n",
       "      <th>...</th>\n",
       "      <td>...</td>\n",
       "      <td>...</td>\n",
       "    </tr>\n",
       "    <tr>\n",
       "      <th>30473</th>\n",
       "      <td>300</td>\n",
       "      <td>Queens</td>\n",
       "    </tr>\n",
       "    <tr>\n",
       "      <th>30474</th>\n",
       "      <td>125</td>\n",
       "      <td>Brooklyn</td>\n",
       "    </tr>\n",
       "    <tr>\n",
       "      <th>30475</th>\n",
       "      <td>80</td>\n",
       "      <td>Brooklyn</td>\n",
       "    </tr>\n",
       "    <tr>\n",
       "      <th>30476</th>\n",
       "      <td>35</td>\n",
       "      <td>Manhattan</td>\n",
       "    </tr>\n",
       "    <tr>\n",
       "      <th>30477</th>\n",
       "      <td>80</td>\n",
       "      <td>Queens</td>\n",
       "    </tr>\n",
       "  </tbody>\n",
       "</table>\n",
       "<p>30477 rows × 2 columns</p>\n",
       "</div>"
      ],
      "text/plain": [
       "       Price Neighbourhood\n",
       "0        145      Brooklyn\n",
       "1         37      Brooklyn\n",
       "2         28     Manhattan\n",
       "3        199     Manhattan\n",
       "4        549     Manhattan\n",
       "...      ...           ...\n",
       "30473    300        Queens\n",
       "30474    125      Brooklyn\n",
       "30475     80      Brooklyn\n",
       "30476     35     Manhattan\n",
       "30477     80        Queens\n",
       "\n",
       "[30477 rows x 2 columns]"
      ]
     },
     "execution_count": 182,
     "metadata": {},
     "output_type": "execute_result"
    }
   ],
   "source": [
    "df[['Price','Neighbourhood']]"
   ]
  },
  {
   "cell_type": "code",
   "execution_count": null,
   "id": "1d350312",
   "metadata": {},
   "outputs": [],
   "source": [
    "sns.relplot(x=\"Room Type\", y=\"Price\", hue='Neighbourhood', data=df);"
   ]
  },
  {
   "cell_type": "markdown",
   "id": "7f772aae",
   "metadata": {},
   "source": [
    "# 앙상블 모델로 위의 feature들로 price 예측해보기"
   ]
  },
  {
   "cell_type": "code",
   "execution_count": 120,
   "id": "24452468",
   "metadata": {},
   "outputs": [],
   "source": [
    "from sklearn.ensemble import RandomForestRegressor\n",
    "from sklearn.model_selection import cross_val_score\n",
    "\n",
    "rf = RandomForestRegressor(random_state=23, n_estimators=1000)\n",
    "neg_mse_score = cross_val_score(rf, X, y, scoring=\"neg_mean_squared_error\", cv=5)\n",
    "rmse_scores = np.sqrt(-1*neg_mse_score)\n",
    "avg_rmse = np.mean(rmse_scores)\n"
   ]
  },
  {
   "cell_type": "code",
   "execution_count": 125,
   "id": "7949995c",
   "metadata": {},
   "outputs": [],
   "source": [
    "rmse_scores = np.sqrt(-1*neg_mse_score)\n",
    "avg_rmse = np.mean(rmse_scores)\n"
   ]
  },
  {
   "cell_type": "code",
   "execution_count": 126,
   "id": "e19e4ce4",
   "metadata": {},
   "outputs": [
    {
     "name": "stdout",
     "output_type": "stream",
     "text": [
      "5 교차 검증의 개별 Negative MSE score:  [-41734.66 -20146.48 -52311.53 -35096.19 -28923.05]\n",
      "5 교차 검증의 개별 RMSE scores:  [204.29 141.94 228.72 187.34 170.07]\n",
      "5 교차 검증의 평균 RMSE scores: 186.4707\n"
     ]
    }
   ],
   "source": [
    "print('5 교차 검증의 개별 Negative MSE score: ', np.round(neg_mse_score,2))\n",
    "print('5 교차 검증의 개별 RMSE scores: ', np.round(rmse_scores,2))\n",
    "print('5 교차 검증의 평균 RMSE scores: {0:.4f}'.format(avg_rmse))"
   ]
  },
  {
   "cell_type": "code",
   "execution_count": 143,
   "id": "ace62000",
   "metadata": {},
   "outputs": [
    {
     "data": {
      "text/plain": [
       "Index(['Neighbourhood ', 'Property Type', 'Room Type', 'Zipcode', 'Beds',\n",
       "       'Number Of Reviews', 'Review Scores Rating'],\n",
       "      dtype='object')"
      ]
     },
     "execution_count": 143,
     "metadata": {},
     "output_type": "execute_result"
    }
   ],
   "source": [
    "X.columns"
   ]
  },
  {
   "cell_type": "code",
   "execution_count": 204,
   "id": "38aa5485",
   "metadata": {},
   "outputs": [
    {
     "data": {
      "text/plain": [
       "RandomForestRegressor(n_estimators=1000, random_state=23)"
      ]
     },
     "execution_count": 204,
     "metadata": {},
     "output_type": "execute_result"
    }
   ],
   "source": [
    "rf.fit(X[['Neighbourhood ','Room Type', 'Zipcode', 'Beds']], y)"
   ]
  },
  {
   "cell_type": "code",
   "execution_count": 145,
   "id": "e1ad6caf",
   "metadata": {},
   "outputs": [],
   "source": [
    "MI_top4 = X[['Neighbourhood ','Room Type', 'Zipcode', 'Beds']]"
   ]
  },
  {
   "cell_type": "code",
   "execution_count": 205,
   "id": "9328590c",
   "metadata": {},
   "outputs": [
    {
     "data": {
      "text/plain": [
       "<AxesSubplot:ylabel='Price'>"
      ]
     },
     "execution_count": 205,
     "metadata": {},
     "output_type": "execute_result"
    },
    {
     "data": {
      "image/png": "[encoded data removed]",
      "text/plain": [
       "<Figure size 1080x576 with 1 Axes>"
      ]
     },
     "metadata": {},
     "output_type": "display_data"
    }
   ],
   "source": [
    "pred1 = rf.predict(MI_top4)\n",
    "fig = plt.figure(figsize=(15,8))\n",
    "sns.lineplot(x=MI_top4.index, y=y-pred1)\n",
    "\n",
    "#ax = sns.relplot(x=MI_top4.index, y=pred, ax=ax)"
   ]
  },
  {
   "cell_type": "code",
   "execution_count": null,
   "id": "1225ccd8",
   "metadata": {},
   "outputs": [],
   "source": []
  },
  {
   "cell_type": "code",
   "execution_count": 206,
   "id": "b293603a",
   "metadata": {},
   "outputs": [
    {
     "data": {
      "image/png": "[encoded data removed]",
      "text/plain": [
       "<Figure size 1080x576 with 1 Axes>"
      ]
     },
     "metadata": {},
     "output_type": "display_data"
    }
   ],
   "source": [
    "from xgboost import XGBRegressor\n",
    "\n",
    "xgb_reg = XGBRegressor(n_estimators=1000)\n",
    "xgb_reg.fit(MI_top4,y)\n",
    "pred2 = xgb_reg.predict(MI_top4)\n",
    "fig = plt.figure(figsize=(15,8))\n",
    "ax = sns.lineplot(x=MI_top4.index, y=y-pred2)"
   ]
  },
  {
   "cell_type": "markdown",
   "id": "39c40a15",
   "metadata": {},
   "source": [
    "밑의 교차검층의 결과는 XGB 모델이 랜덤포레스트보다 약간 더 안 좋다."
   ]
  },
  {
   "cell_type": "code",
   "execution_count": 199,
   "id": "ac427780",
   "metadata": {},
   "outputs": [
    {
     "name": "stdout",
     "output_type": "stream",
     "text": [
      "5 교차 검증의 개별 Negative MSE score:  [-47532.32 -24837.27 -53035.25 -39662.53 -31998.48]\n",
      "5 교차 검증의 개별 RMSE scores:  [218.02 157.6  230.29 199.15 178.88]\n",
      "5 교차 검증의 평균 RMSE scores: 196.7894\n"
     ]
    }
   ],
   "source": [
    "neg_mse_score = cross_val_score(xgb_reg, X, y, scoring=\"neg_mean_squared_error\", cv=5)\n",
    "rmse_scores = np.sqrt(-1*neg_mse_score)\n",
    "avg_rmse = np.mean(rmse_scores)\n",
    "\n",
    "print('5 교차 검증의 개별 Negative MSE score: ', np.round(neg_mse_score,2))\n",
    "print('5 교차 검증의 개별 RMSE scores: ', np.round(rmse_scores,2))\n",
    "print('5 교차 검증의 평균 RMSE scores: {0:.4f}'.format(avg_rmse))"
   ]
  },
  {
   "cell_type": "markdown",
   "id": "6fe89d7b",
   "metadata": {},
   "source": [
    "랜덤포레스트와 XGB 모델 결과가 너무 비슷해서 pred끼리 차를 구해보았다. 차이가 있긴 있네.."
   ]
  },
  {
   "cell_type": "code",
   "execution_count": 207,
   "id": "89c5013d",
   "metadata": {},
   "outputs": [
    {
     "data": {
      "image/png": "[encoded data removed]",
      "text/plain": [
       "<Figure size 792x288 with 1 Axes>"
      ]
     },
     "metadata": {},
     "output_type": "display_data"
    }
   ],
   "source": [
    "ax = sns.lineplot(x=MI_top4.index, y=pred1-pred2)"
   ]
  },
  {
   "cell_type": "markdown",
   "id": "72e0387c",
   "metadata": {},
   "source": [
    "# ROOM TYPE 분류 해보기\n"
   ]
  },
  {
   "cell_type": "code",
   "execution_count": 217,
   "id": "3ca5dfc0",
   "metadata": {},
   "outputs": [],
   "source": [
    "X_ = X.copy()\n",
    "y = X_.pop('Room Type')"
   ]
  },
  {
   "cell_type": "markdown",
   "id": "2c86f3d6",
   "metadata": {},
   "source": [
    "클래스간 차이가 너무 많이 난다..ㅠ"
   ]
  },
  {
   "cell_type": "code",
   "execution_count": 251,
   "id": "e0d8acf2",
   "metadata": {},
   "outputs": [
    {
     "data": {
      "text/plain": [
       "<AxesSubplot:xlabel='Room Type'>"
      ]
     },
     "execution_count": 251,
     "metadata": {},
     "output_type": "execute_result"
    },
    {
     "data": {
      "image/png": "[encoded data removed]",
      "text/plain": [
       "<Figure size 792x288 with 1 Axes>"
      ]
     },
     "metadata": {},
     "output_type": "display_data"
    }
   ],
   "source": [
    "roomtype_c = X.groupby('Room Type')[['Room Type']].count()/30477\n",
    "roomtype_c.plot(kind='bar')"
   ]
  },
  {
   "cell_type": "code",
   "execution_count": 252,
   "id": "044222d2",
   "metadata": {},
   "outputs": [
    {
     "data": {
      "text/html": [
       "<div>\n",
       "<style scoped>\n",
       "    .dataframe tbody tr th:only-of-type {\n",
       "        vertical-align: middle;\n",
       "    }\n",
       "\n",
       "    .dataframe tbody tr th {\n",
       "        vertical-align: top;\n",
       "    }\n",
       "\n",
       "    .dataframe thead th {\n",
       "        text-align: right;\n",
       "    }\n",
       "</style>\n",
       "<table border=\"1\" class=\"dataframe\">\n",
       "  <thead>\n",
       "    <tr style=\"text-align: right;\">\n",
       "      <th></th>\n",
       "      <th>Room Type</th>\n",
       "    </tr>\n",
       "    <tr>\n",
       "      <th>Room Type</th>\n",
       "      <th></th>\n",
       "    </tr>\n",
       "  </thead>\n",
       "  <tbody>\n",
       "    <tr>\n",
       "      <th>0</th>\n",
       "      <td>0.558552</td>\n",
       "    </tr>\n",
       "    <tr>\n",
       "      <th>1</th>\n",
       "      <td>0.413722</td>\n",
       "    </tr>\n",
       "    <tr>\n",
       "      <th>2</th>\n",
       "      <td>0.027726</td>\n",
       "    </tr>\n",
       "  </tbody>\n",
       "</table>\n",
       "</div>"
      ],
      "text/plain": [
       "           Room Type\n",
       "Room Type           \n",
       "0           0.558552\n",
       "1           0.413722\n",
       "2           0.027726"
      ]
     },
     "execution_count": 252,
     "metadata": {},
     "output_type": "execute_result"
    }
   ],
   "source": [
    "roomtype_c"
   ]
  },
  {
   "cell_type": "markdown",
   "id": "4d80ede3",
   "metadata": {},
   "source": [
    "y=Room Type으로 주고 MI를 구해도 그닥 상관관계가 강한 feature는 없다."
   ]
  },
  {
   "cell_type": "code",
   "execution_count": 219,
   "id": "eb12c644",
   "metadata": {},
   "outputs": [
    {
     "data": {
      "text/plain": [
       "Price                   0.325156\n",
       "Beds                    0.092337\n",
       "Zipcode                 0.063819\n",
       "Number Of Reviews       0.021626\n",
       "Neighbourhood           0.015447\n",
       "Property Type           0.013607\n",
       "Review Scores Rating    0.010354\n",
       "Name: MI Scores, dtype: float64"
      ]
     },
     "execution_count": 219,
     "metadata": {},
     "output_type": "execute_result"
    }
   ],
   "source": [
    "mi_scores = make_mi_scores(X_, y, discrete_features)\n",
    "mi_scores[:]  # show a few features with their MI scores"
   ]
  },
  {
   "cell_type": "code",
   "execution_count": 221,
   "id": "7263aadf",
   "metadata": {},
   "outputs": [
    {
     "name": "stdout",
     "output_type": "stream",
     "text": [
      "Fitting 5 folds for each of 14 candidates, totalling 70 fits\n",
      "GridSearchCV 최고 평균 정확도 수치: 0.8415\n",
      "GridSearchCV 최적 하이퍼 파라미터: {'max_depth': 16, 'min_samples_split': 16}\n"
     ]
    }
   ],
   "source": [
    "from sklearn.ensemble import RandomForestClassifier\n",
    "from sklearn.model_selection import GridSearchCV\n",
    "\n",
    "\n",
    "rf_clf = RandomForestClassifier(random_state=123)\n",
    "\n",
    "params = { \"max_depth\":[3,6,8,10,16,20, 24], 'min_samples_split':[16,24]}\n",
    "\n",
    "grid_cv = GridSearchCV(rf_clf, param_grid=params, scoring='accuracy', cv=5, verbose=1)\n",
    "grid_cv.fit(X_, y)\n",
    "print('GridSearchCV 최고 평균 정확도 수치: {0:.4f}'.format(grid_cv.best_score_))\n",
    "print('GridSearchCV 최적 하이퍼 파라미터:', grid_cv.best_params_)"
   ]
  },
  {
   "cell_type": "code",
   "execution_count": 239,
   "id": "458ce6dc",
   "metadata": {},
   "outputs": [
    {
     "data": {
      "text/html": [
       "<div>\n",
       "<style scoped>\n",
       "    .dataframe tbody tr th:only-of-type {\n",
       "        vertical-align: middle;\n",
       "    }\n",
       "\n",
       "    .dataframe tbody tr th {\n",
       "        vertical-align: top;\n",
       "    }\n",
       "\n",
       "    .dataframe thead th {\n",
       "        text-align: right;\n",
       "    }\n",
       "</style>\n",
       "<table border=\"1\" class=\"dataframe\">\n",
       "  <thead>\n",
       "    <tr style=\"text-align: right;\">\n",
       "      <th></th>\n",
       "      <th>param_max_depth</th>\n",
       "      <th>param_min_samples_split</th>\n",
       "      <th>mean_test_score</th>\n",
       "      <th>rank_test_score</th>\n",
       "    </tr>\n",
       "  </thead>\n",
       "  <tbody>\n",
       "    <tr>\n",
       "      <th>8</th>\n",
       "      <td>16</td>\n",
       "      <td>16</td>\n",
       "      <td>0.841520</td>\n",
       "      <td>1</td>\n",
       "    </tr>\n",
       "    <tr>\n",
       "      <th>13</th>\n",
       "      <td>24</td>\n",
       "      <td>24</td>\n",
       "      <td>0.839682</td>\n",
       "      <td>2</td>\n",
       "    </tr>\n",
       "    <tr>\n",
       "      <th>10</th>\n",
       "      <td>20</td>\n",
       "      <td>16</td>\n",
       "      <td>0.839584</td>\n",
       "      <td>3</td>\n",
       "    </tr>\n",
       "    <tr>\n",
       "      <th>9</th>\n",
       "      <td>16</td>\n",
       "      <td>24</td>\n",
       "      <td>0.839420</td>\n",
       "      <td>4</td>\n",
       "    </tr>\n",
       "    <tr>\n",
       "      <th>12</th>\n",
       "      <td>24</td>\n",
       "      <td>16</td>\n",
       "      <td>0.839256</td>\n",
       "      <td>5</td>\n",
       "    </tr>\n",
       "    <tr>\n",
       "      <th>7</th>\n",
       "      <td>10</td>\n",
       "      <td>24</td>\n",
       "      <td>0.838829</td>\n",
       "      <td>6</td>\n",
       "    </tr>\n",
       "    <tr>\n",
       "      <th>11</th>\n",
       "      <td>20</td>\n",
       "      <td>24</td>\n",
       "      <td>0.838763</td>\n",
       "      <td>7</td>\n",
       "    </tr>\n",
       "    <tr>\n",
       "      <th>6</th>\n",
       "      <td>10</td>\n",
       "      <td>16</td>\n",
       "      <td>0.838402</td>\n",
       "      <td>8</td>\n",
       "    </tr>\n",
       "    <tr>\n",
       "      <th>4</th>\n",
       "      <td>8</td>\n",
       "      <td>16</td>\n",
       "      <td>0.837516</td>\n",
       "      <td>9</td>\n",
       "    </tr>\n",
       "    <tr>\n",
       "      <th>5</th>\n",
       "      <td>8</td>\n",
       "      <td>24</td>\n",
       "      <td>0.836926</td>\n",
       "      <td>10</td>\n",
       "    </tr>\n",
       "    <tr>\n",
       "      <th>2</th>\n",
       "      <td>6</td>\n",
       "      <td>16</td>\n",
       "      <td>0.831217</td>\n",
       "      <td>11</td>\n",
       "    </tr>\n",
       "    <tr>\n",
       "      <th>3</th>\n",
       "      <td>6</td>\n",
       "      <td>24</td>\n",
       "      <td>0.831184</td>\n",
       "      <td>12</td>\n",
       "    </tr>\n",
       "    <tr>\n",
       "      <th>0</th>\n",
       "      <td>3</td>\n",
       "      <td>16</td>\n",
       "      <td>0.826131</td>\n",
       "      <td>13</td>\n",
       "    </tr>\n",
       "    <tr>\n",
       "      <th>1</th>\n",
       "      <td>3</td>\n",
       "      <td>24</td>\n",
       "      <td>0.826131</td>\n",
       "      <td>13</td>\n",
       "    </tr>\n",
       "  </tbody>\n",
       "</table>\n",
       "</div>"
      ],
      "text/plain": [
       "   param_max_depth param_min_samples_split  mean_test_score  rank_test_score\n",
       "8               16                      16         0.841520                1\n",
       "13              24                      24         0.839682                2\n",
       "10              20                      16         0.839584                3\n",
       "9               16                      24         0.839420                4\n",
       "12              24                      16         0.839256                5\n",
       "7               10                      24         0.838829                6\n",
       "11              20                      24         0.838763                7\n",
       "6               10                      16         0.838402                8\n",
       "4                8                      16         0.837516                9\n",
       "5                8                      24         0.836926               10\n",
       "2                6                      16         0.831217               11\n",
       "3                6                      24         0.831184               12\n",
       "0                3                      16         0.826131               13\n",
       "1                3                      24         0.826131               13"
      ]
     },
     "execution_count": 239,
     "metadata": {},
     "output_type": "execute_result"
    }
   ],
   "source": [
    "pd.DataFrame(grid_cv.cv_results_).sort_values('rank_test_score')[['param_max_depth','param_min_samples_split','mean_test_score','rank_test_score']]"
   ]
  },
  {
   "cell_type": "code",
   "execution_count": 244,
   "id": "734c6e5a",
   "metadata": {},
   "outputs": [
    {
     "data": {
      "text/plain": [
       "Text(0.5, 1.0, 'RandomFrest: Important feature ranking')"
      ]
     },
     "execution_count": 244,
     "metadata": {},
     "output_type": "execute_result"
    },
    {
     "data": {
      "image/png": "[encoded data removed]",
      "text/plain": [
       "<Figure size 792x288 with 1 Axes>"
      ]
     },
     "metadata": {},
     "output_type": "display_data"
    }
   ],
   "source": [
    "ft_importance = pd.Series(grid_cv.best_estimator_.feature_importances_, index=X_.columns).sort_values(ascending=False)\n",
    "ft_importance.index\n",
    "ax = sns.barplot(y=ft_importance, x=ft_importance.index)\n",
    "plt.title('RandomFrest: Important feature ranking')"
   ]
  },
  {
   "cell_type": "markdown",
   "id": "426caccb",
   "metadata": {},
   "source": [
    "랜덤포레스트 분류기에서 제일 학습값이 없는 클래스 '2'의 accuracy를 살펴봄.\n",
    "- train데이터의 결과를 보긴 했지만 결과분류가 85% 정확도면 랜덤포레스트 모델은 클래스간 불균형에도 강하다는 거네..와"
   ]
  },
  {
   "cell_type": "code",
   "execution_count": 257,
   "id": "f0aa9471",
   "metadata": {},
   "outputs": [
    {
     "data": {
      "text/plain": [
       "30       2\n",
       "31       2\n",
       "78       2\n",
       "79       2\n",
       "102      2\n",
       "        ..\n",
       "30413    2\n",
       "30414    2\n",
       "30415    2\n",
       "30428    2\n",
       "30463    2\n",
       "Name: Room Type, Length: 845, dtype: int64"
      ]
     },
     "execution_count": 257,
     "metadata": {},
     "output_type": "execute_result"
    }
   ],
   "source": [
    "X_type2 = X.copy()\n",
    "X_type2 = X_type2[X_type2['Room Type'] == 2]\n",
    "X_type2.pop('Room Type')"
   ]
  },
  {
   "cell_type": "markdown",
   "id": "c6771815",
   "metadata": {},
   "source": []
  },
  {
   "cell_type": "code",
   "execution_count": 1,
   "id": "f1d1f845",
   "metadata": {},
   "outputs": [
    {
     "data": {
      "text/plain": [
       "1"
      ]
     },
     "execution_count": 1,
     "metadata": {},
     "output_type": "execute_result"
    }
   ],
   "source": [
    "1"
   ]
  },
  {
   "cell_type": "code",
   "execution_count": 263,
   "id": "74facb13",
   "metadata": {},
   "outputs": [
    {
     "data": {
      "text/plain": [
       "{0: 29, 1: 90, 2: 726}"
      ]
     },
     "execution_count": 263,
     "metadata": {},
     "output_type": "execute_result"
    }
   ],
   "source": [
    "pred_type_2 = rf_clf.predict(X_type2)\n",
    "\n",
    "unique, counts = np.unique(pred_type_2, return_counts=True)\n",
    "dict(zip(unique, counts))\n",
    "#726/845"
   ]
  },
  {
   "cell_type": "markdown",
   "id": "94256796",
   "metadata": {},
   "source": [
    "## eval 함수 (이진분류) "
   ]
  },
  {
   "cell_type": "code",
   "execution_count": 265,
   "id": "04d39d20",
   "metadata": {},
   "outputs": [],
   "source": [
    "from sklearn.metrics import confusion_matrix\n",
    "from sklearn.metrics import accuracy_score\n",
    "from sklearn.metrics import precision_score\n",
    "from sklearn.metrics import recall_score\n",
    "from sklearn.metrics import f1_score\n",
    "from sklearn.metrics import roc_auc_score\n",
    "\n",
    "# 평가지표 출력하는 함수 설정\n",
    "def get_clf_eval(y_test, y_pred):\n",
    "    confusion = confusion_matrix(y_test, y_pred)\n",
    "    accuracy = accuracy_score(y_test, y_pred)\n",
    "    precision = precision_score(y_test, y_pred)\n",
    "    recall = recall_score(y_test, y_pred)\n",
    "    F1 = f1_score(y_test, y_pred)\n",
    "    AUC = roc_auc_score(y_test, y_pred)\n",
    "    \n",
    "    print('오차행렬:\\n', confusion)\n",
    "    print('\\n정확도: {:.4f}'.format(accuracy))\n",
    "    print('정밀도: {:.4f}'.format(precision))\n",
    "    print('재현율: {:.4f}'.format(recall))\n",
    "    print('F1: {:.4f}'.format(F1))\n",
    "    print('AUC: {:.4f}'.format(AUC))"
   ]
  },
  {
   "cell_type": "code",
   "execution_count": null,
   "id": "469a1073",
   "metadata": {},
   "outputs": [],
   "source": [
    "from xgboost import XGBClassifier\n",
    "from sklearn.model_selection import train_test_split\n",
    "\n",
    "X_train, X_test, y_train, y_test = train_test_split(X_, y, test_size=0.2, random_state=23)\n",
    "\n",
    "\n",
    "params = {'learning_rate':[0.1,0.05,0.01], 'max_depth':[3,6,8,10,16,20,24]}\n",
    "xgb_wrapper = XGBClassifier(n_estimators=1000)\n",
    "grid_cv = GridSearchCV(xgb_wrapper,param_grid=params, scoring='accuracy', cv=5, verbose=1)\n",
    "grid_cv.fit(X_train, y_train)\n",
    "\n",
    "print('GridSearchCV 최고 평균 정확도 수치: {0:.4f}'.format(grid_cv.best_score_))\n",
    "print('GridSearchCV 최적 하이퍼 파라미터:', grid_cv.best_params_)\n",
    "# xgb_wrapper.fit(X_train, y_train)\n",
    "# w_pred = xgb_wrapper.predict(X_test)\n",
    "\n",
    "# acc = accuracy_score(y_test, w_pred)\n",
    "# print('XGB 모델 정확도: {0:.4f}'.format(acc))"
   ]
  },
  {
   "cell_type": "code",
   "execution_count": 269,
   "id": "accea3ac",
   "metadata": {},
   "outputs": [
    {
     "name": "stdout",
     "output_type": "stream",
     "text": [
      "GridSearchCV 최고 평균 정확도 수치: 0.8517\n",
      "GridSearchCV 최적 하이퍼 파라미터: {'learning_rate': 0.1, 'max_depth': 3}\n"
     ]
    }
   ],
   "source": [
    "print('GridSearchCV 최고 평균 정확도 수치: {0:.4f}'.format(grid_cv.best_score_))\n",
    "print('GridSearchCV 최적 하이퍼 파라미터:', grid_cv.best_params_)"
   ]
  },
  {
   "cell_type": "markdown",
   "id": "a0a3992c",
   "metadata": {},
   "source": [
    "## class 불균형 맞추기 위한 오버샘플링 후 다시 학습해보기\n",
    "- "
   ]
  },
  {
   "cell_type": "code",
   "execution_count": 273,
   "id": "770214e8",
   "metadata": {},
   "outputs": [],
   "source": [
    "from imblearn.over_sampling import SMOTE"
   ]
  },
  {
   "cell_type": "code",
   "execution_count": 276,
   "id": "129cedff",
   "metadata": {},
   "outputs": [
    {
     "name": "stdout",
     "output_type": "stream",
     "text": [
      "적용 전 train 데이터 크기:  (24381, 7) (24381,)\n",
      "적용 후 train 데이터 크기:  (40887, 7) (40887,)\n"
     ]
    }
   ],
   "source": [
    "smote = SMOTE(random_state=0)\n",
    "X_train_over, y_train_over = smote.fit_resample(X_train, y_train)\n",
    "print('적용 전 train 데이터 크기: ', X_train.shape, y_train.shape)\n",
    "print('적용 후 train 데이터 크기: ', X_train_over.shape, y_train_over.shape)"
   ]
  },
  {
   "cell_type": "markdown",
   "id": "bec3c0f3",
   "metadata": {},
   "source": [
    "워후 클래스간 크기 다 같아짐."
   ]
  },
  {
   "cell_type": "code",
   "execution_count": 277,
   "id": "f2190333",
   "metadata": {},
   "outputs": [
    {
     "data": {
      "text/plain": [
       "{0: 13629, 1: 13629, 2: 13629}"
      ]
     },
     "execution_count": 277,
     "metadata": {},
     "output_type": "execute_result"
    }
   ],
   "source": [
    "unique, counts = np.unique(y_train_over, return_counts=True)\n",
    "dict(zip(unique, counts))"
   ]
  },
  {
   "cell_type": "code",
   "execution_count": 280,
   "id": "c0ac3019",
   "metadata": {},
   "outputs": [
    {
     "name": "stdout",
     "output_type": "stream",
     "text": [
      "Fitting 5 folds for each of 14 candidates, totalling 70 fits\n",
      "GridSearchCV 최고 평균 정확도 수치: 0.8523\n",
      "GridSearchCV 최적 하이퍼 파라미터: {'max_depth': 24, 'min_samples_split': 16}\n"
     ]
    }
   ],
   "source": [
    "rf_clf = RandomForestClassifier(random_state=123)\n",
    "\n",
    "params = { \"max_depth\":[24, 30,], 'min_samples_split':[16,24]}\n",
    "\n",
    "grid_cv = GridSearchCV(rf_clf, param_grid=params, scoring='accuracy', cv=5, verbose=1)\n",
    "grid_cv.fit(X_train_over, y_train_over)\n",
    "print('GridSearchCV 최고 평균 정확도 수치: {0:.4f}'.format(grid_cv.best_score_))\n",
    "print('GridSearchCV 최적 하이퍼 파라미터:', grid_cv.best_params_)"
   ]
  },
  {
   "cell_type": "code",
   "execution_count": 286,
   "id": "df520f13",
   "metadata": {},
   "outputs": [
    {
     "name": "stdout",
     "output_type": "stream",
     "text": [
      "오버샘플링 후 XGBboost 베스트모델로 fit후 예측 acc: 0.8153\n"
     ]
    }
   ],
   "source": [
    "#grid_cv.best_estimator_.fit(X_train_over,y_train_over)\n",
    "pred_over = grid_cv.best_estimator_.predict(X_test)\n",
    "acc = accuracy_score(y_test,pred_over)\n",
    "print('오버샘플링 후 XGBboost 베스트모델로 fit후 예측 acc: {0:.4f}'.format(acc))"
   ]
  },
  {
   "cell_type": "code",
   "execution_count": 287,
   "id": "a5564f76",
   "metadata": {},
   "outputs": [],
   "source": [
    "# pandas 에서 엑셀 불러오게\n",
    "#! pip install openpyxl"
   ]
  },
  {
   "cell_type": "code",
   "execution_count": 168,
   "id": "99515353",
   "metadata": {},
   "outputs": [
    {
     "name": "stdout",
     "output_type": "stream",
     "text": [
      "Defaulting to user installation because normal site-packages is not writeable\n",
      "\u001b[33mWARNING: Ignoring invalid distribution -haiii (/usr/local/lib/python3.8/dist-packages)\u001b[0m\n",
      "\u001b[33mWARNING: Ignoring invalid distribution -haiii (/usr/local/lib/python3.8/dist-packages)\u001b[0m\n",
      "Collecting xgboost\n",
      "  Downloading xgboost-1.5.1-py3-none-manylinux2014_x86_64.whl (173.5 MB)\n",
      "     |████████████████████████████████| 173.5 MB 8.4 MB/s            \n",
      "\u001b[?25hRequirement already satisfied: scipy in /usr/local/lib/python3.8/dist-packages (from xgboost) (1.4.1)\n",
      "Requirement already satisfied: numpy in /usr/local/lib/python3.8/dist-packages (from xgboost) (1.19.5)\n",
      "\u001b[33mWARNING: Ignoring invalid distribution -haiii (/usr/local/lib/python3.8/dist-packages)\u001b[0m\n",
      "Installing collected packages: xgboost\n",
      "Successfully installed xgboost-1.5.1\n",
      "\u001b[33mWARNING: Ignoring invalid distribution -haiii (/usr/local/lib/python3.8/dist-packages)\u001b[0m\n",
      "\u001b[33mWARNING: Ignoring invalid distribution -haiii (/usr/local/lib/python3.8/dist-packages)\u001b[0m\n"
     ]
    }
   ],
   "source": [
    "# 220114금\n",
    "#! pip install xgboost\n"
   ]
  },
  {
   "cell_type": "code",
   "execution_count": null,
   "id": "fbcf4b01",
   "metadata": {},
   "outputs": [],
   "source": []
  }
 ],
 "metadata": {
  "kernelspec": {
   "display_name": "Python 3 (ipykernel)",
   "language": "python",
   "name": "python3"
  },
  "language_info": {
   "codemirror_mode": {
    "name": "ipython",
    "version": 3
   },
   "file_extension": ".py",
   "mimetype": "text/x-python",
   "name": "python",
   "nbconvert_exporter": "python",
   "pygments_lexer": "ipython3",
   "version": "3.8.10"
  }
 },
 "nbformat": 4,
 "nbformat_minor": 5
}
